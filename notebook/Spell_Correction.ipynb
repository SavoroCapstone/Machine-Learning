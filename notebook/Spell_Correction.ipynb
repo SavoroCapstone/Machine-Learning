{
 "cells": [
  {
   "cell_type": "code",
   "execution_count": 1,
   "id": "8b1e384a",
   "metadata": {},
   "outputs": [],
   "source": [
    "import re\n",
    "from collections import Counter\n",
    "import numpy as np\n",
    "import pandas as pd"
   ]
  },
  {
   "cell_type": "code",
   "execution_count": 2,
   "id": "70c6031f",
   "metadata": {},
   "outputs": [],
   "source": [
    "# Process data\n",
    "def process_data(file_name):\n",
    "    words = [] # return this variable correctly\n",
    "    \n",
    "    #Open file, read its contents into a string variable\n",
    "    with open(file_name) as f:\n",
    "        file_name_data = f.read()\n",
    "    # convert all letters to lower case\n",
    "    file_name_data = file_name_data.lower()\n",
    "    #Convert every word to lower case and return them in a list.\n",
    "    words = re.findall('\\w+', file_name_data)\n",
    "\n",
    "    return words"
   ]
  },
  {
   "cell_type": "code",
   "execution_count": 4,
   "id": "fb5f9fc5",
   "metadata": {},
   "outputs": [
    {
     "name": "stdout",
     "output_type": "stream",
     "text": [
      "The first ten words in the text are: \n",
      "['krim', 'sup', 'ayam', 'kalengan', 'terkondensasi', 'belalang', 'goreng', 'getuk', 'goreng', 'bakso']\n",
      "There are 3537 unique words in the vocabulary.\n"
     ]
    }
   ],
   "source": [
    "word_l = process_data('../column_data_nama.txt')\n",
    "vocab = set(word_l)  # this will be your new vocabulary\n",
    "print(f\"The first ten words in the text are: \\n{word_l[:10]}\")\n",
    "print(f\"There are {len(vocab)} unique words in the vocabulary.\")"
   ]
  },
  {
   "cell_type": "code",
   "execution_count": 5,
   "id": "b39275c2",
   "metadata": {},
   "outputs": [],
   "source": [
    "def get_count(word_l):\n",
    "    word_count_dict = {}  # fill this with word counts\n",
    "    word_count_dict = Counter(word_l)\n",
    "    return word_count_dict"
   ]
  },
  {
   "cell_type": "code",
   "execution_count": 14,
   "id": "7da9d366",
   "metadata": {},
   "outputs": [
    {
     "name": "stdout",
     "output_type": "stream",
     "text": [
      "There are 3537 key values pairs\n",
      "The count for the word 'keju' is 597\n"
     ]
    }
   ],
   "source": [
    "word_count_dict = get_count(word_l)\n",
    "print(f\"There are {len(word_count_dict)} key values pairs\")\n",
    "print(f\"The count for the word 'keju' is {word_count_dict.get('ayam',0)}\")"
   ]
  },
  {
   "cell_type": "code",
   "execution_count": 15,
   "id": "4068cfb3",
   "metadata": {},
   "outputs": [],
   "source": [
    "def get_probs(word_count_dict):\n",
    "    probs = {}  # return this variable correctly\n",
    "    \n",
    "    # get the total count of words for all words in the dictionary\n",
    "    m = sum(word_count_dict.values())\n",
    "    for key in word_count_dict.keys():\n",
    "        probs[key] = word_count_dict[key]/m\n",
    "    \n",
    "    return probs"
   ]
  },
  {
   "cell_type": "code",
   "execution_count": 16,
   "id": "4fc09e74",
   "metadata": {},
   "outputs": [
    {
     "name": "stdout",
     "output_type": "stream",
     "text": [
      "Length of probs is 3537\n",
      "P('ayam') is 0.0195\n"
     ]
    }
   ],
   "source": [
    "probs = get_probs(word_count_dict)\n",
    "print(f\"Length of probs is {len(probs)}\")\n",
    "print(f\"P('ayam') is {probs['ayam']:.4f}\")"
   ]
  },
  {
   "cell_type": "code",
   "execution_count": 17,
   "id": "67721141",
   "metadata": {},
   "outputs": [],
   "source": [
    "def delete_letter(word, verbose=False):\n",
    "    \n",
    "    delete_l = []\n",
    "    split_l = []\n",
    "\n",
    "    for c in range(len(word)):\n",
    "        split_l.append((word[:c],word[c:]))\n",
    "    for a,b in split_l:\n",
    "        delete_l.append(a+b[1:])\n",
    "        \n",
    "    if verbose: print(f\"input word {word}, \\nsplit_l = {split_l}, \\ndelete_l = {delete_l}\")\n",
    "\n",
    "    return  delete_l"
   ]
  },
  {
   "cell_type": "code",
   "execution_count": 18,
   "id": "d43137bb",
   "metadata": {},
   "outputs": [
    {
     "name": "stdout",
     "output_type": "stream",
     "text": [
      "input word ayam, \n",
      "split_l = [('', 'ayam'), ('a', 'yam'), ('ay', 'am'), ('aya', 'm')], \n",
      "delete_l = ['yam', 'aam', 'aym', 'aya']\n"
     ]
    }
   ],
   "source": [
    "delete_word_l = delete_letter(word=\"ayam\",\n",
    "                        verbose=True)"
   ]
  },
  {
   "cell_type": "code",
   "execution_count": 22,
   "id": "8c0696a9",
   "metadata": {},
   "outputs": [
    {
     "name": "stdout",
     "output_type": "stream",
     "text": [
      "Number of outputs of delete_letter('sapi') is 4\n"
     ]
    }
   ],
   "source": [
    "# test # 2\n",
    "print(f\"Number of outputs of delete_letter('sapi') is {len(delete_letter('sapi'))}\")"
   ]
  },
  {
   "cell_type": "code",
   "execution_count": 23,
   "id": "df33d2ce",
   "metadata": {},
   "outputs": [],
   "source": [
    "def switch_letter(word, verbose=False):\n",
    "    \n",
    "    switch_l = []\n",
    "    split_l = []\n",
    "\n",
    "    len_word = len(word)\n",
    "    for c in range(len_word):\n",
    "        split_l.append((word[:c],word[c:]))\n",
    "    switch_l = [a + b[1] + b[0] + b[2:] for a,b in split_l if len(b) >= 2]\n",
    "\n",
    "    if verbose: print(f\"Input word = {word} \\nsplit_l = {split_l} \\nswitch_l = {switch_l}\") \n",
    "    \n",
    "    return switch_l"
   ]
  },
  {
   "cell_type": "code",
   "execution_count": 24,
   "id": "6a353490",
   "metadata": {},
   "outputs": [
    {
     "name": "stdout",
     "output_type": "stream",
     "text": [
      "Input word = ayam \n",
      "split_l = [('', 'ayam'), ('a', 'yam'), ('ay', 'am'), ('aya', 'm')] \n",
      "switch_l = ['yaam', 'aaym', 'ayma']\n"
     ]
    }
   ],
   "source": [
    "switch_word_l = switch_letter(word=\"ayam\",\n",
    "                         verbose=True)"
   ]
  },
  {
   "cell_type": "code",
   "execution_count": 25,
   "id": "44095b93",
   "metadata": {},
   "outputs": [
    {
     "name": "stdout",
     "output_type": "stream",
     "text": [
      "Number of outputs of switch_letter('at') is 1\n"
     ]
    }
   ],
   "source": [
    "# test # 2\n",
    "print(f\"Number of outputs of switch_letter('at') is {len(switch_letter('at'))}\")"
   ]
  },
  {
   "cell_type": "code",
   "execution_count": 26,
   "id": "70439d12",
   "metadata": {},
   "outputs": [],
   "source": [
    "def replace_letter(word, verbose=False):\n",
    "    \n",
    "    letters = 'abcdefghijklmnopqrstuvwxyz'\n",
    "    \n",
    "    replace_l = []\n",
    "    split_l = []\n",
    "\n",
    "    for c in range(len(word)):\n",
    "        split_l.append((word[0:c],word[c:]))\n",
    "    replace_l = [a + l + (b[1:] if len(b)> 1 else '') for a,b in split_l if b for l in letters]\n",
    "    replace_set=set(replace_l)    \n",
    "    replace_set.remove(word)\n",
    "    \n",
    "    # turn the set back into a list and sort it, for easier viewing\n",
    "    replace_l = sorted(list(replace_set))\n",
    "    \n",
    "    if verbose: print(f\"Input word = {word} \\nsplit_l = {split_l} \\nreplace_l {replace_l}\")   \n",
    "    \n",
    "    return replace_l"
   ]
  },
  {
   "cell_type": "code",
   "execution_count": 27,
   "id": "9191cce1",
   "metadata": {},
   "outputs": [
    {
     "name": "stdout",
     "output_type": "stream",
     "text": [
      "Input word = ayam \n",
      "split_l = [('', 'ayam'), ('a', 'yam'), ('ay', 'am'), ('aya', 'm')] \n",
      "replace_l ['aaam', 'abam', 'acam', 'adam', 'aeam', 'afam', 'agam', 'aham', 'aiam', 'ajam', 'akam', 'alam', 'amam', 'anam', 'aoam', 'apam', 'aqam', 'aram', 'asam', 'atam', 'auam', 'avam', 'awam', 'axam', 'ayaa', 'ayab', 'ayac', 'ayad', 'ayae', 'ayaf', 'ayag', 'ayah', 'ayai', 'ayaj', 'ayak', 'ayal', 'ayan', 'ayao', 'ayap', 'ayaq', 'ayar', 'ayas', 'ayat', 'ayau', 'ayav', 'ayaw', 'ayax', 'ayay', 'ayaz', 'aybm', 'aycm', 'aydm', 'ayem', 'ayfm', 'aygm', 'ayhm', 'ayim', 'ayjm', 'aykm', 'aylm', 'aymm', 'aynm', 'ayom', 'aypm', 'ayqm', 'ayrm', 'aysm', 'aytm', 'ayum', 'ayvm', 'aywm', 'ayxm', 'ayym', 'ayzm', 'azam', 'byam', 'cyam', 'dyam', 'eyam', 'fyam', 'gyam', 'hyam', 'iyam', 'jyam', 'kyam', 'lyam', 'myam', 'nyam', 'oyam', 'pyam', 'qyam', 'ryam', 'syam', 'tyam', 'uyam', 'vyam', 'wyam', 'xyam', 'yyam', 'zyam']\n"
     ]
    }
   ],
   "source": [
    "replace_l = replace_letter(word='ayam',\n",
    "                              verbose=True)"
   ]
  },
  {
   "cell_type": "code",
   "execution_count": 29,
   "id": "80e943b4",
   "metadata": {},
   "outputs": [
    {
     "name": "stdout",
     "output_type": "stream",
     "text": [
      "Number of outputs of replace_letter('at') is 100\n"
     ]
    }
   ],
   "source": [
    "# test # 2\n",
    "print(f\"Number of outputs of replace_letter('at') is {len(replace_letter('ayam'))}\")"
   ]
  },
  {
   "cell_type": "code",
   "execution_count": 31,
   "id": "3eb7a649",
   "metadata": {},
   "outputs": [],
   "source": [
    "def insert_letter(word, verbose=False):\n",
    " \n",
    "    letters = 'abcdefghijklmnopqrstuvwxyz'\n",
    "    insert_l = []\n",
    "    split_l = []\n",
    "    \n",
    "    for c in range(len(word)+1):\n",
    "        split_l.append((word[0:c],word[c:]))\n",
    "    insert_l = [ a + l + b for a,b in split_l for l in letters]\n",
    "    \n",
    "    if verbose: print(f\"Input word {word} \\nsplit_l = {split_l} \\ninsert_l = {insert_l}\")\n",
    "    \n",
    "    return insert_l"
   ]
  },
  {
   "cell_type": "code",
   "execution_count": 32,
   "id": "56706b14",
   "metadata": {},
   "outputs": [
    {
     "name": "stdout",
     "output_type": "stream",
     "text": [
      "Input word ayam \n",
      "split_l = [('', 'ayam'), ('a', 'yam'), ('ay', 'am'), ('aya', 'm'), ('ayam', '')] \n",
      "insert_l = ['aayam', 'bayam', 'cayam', 'dayam', 'eayam', 'fayam', 'gayam', 'hayam', 'iayam', 'jayam', 'kayam', 'layam', 'mayam', 'nayam', 'oayam', 'payam', 'qayam', 'rayam', 'sayam', 'tayam', 'uayam', 'vayam', 'wayam', 'xayam', 'yayam', 'zayam', 'aayam', 'abyam', 'acyam', 'adyam', 'aeyam', 'afyam', 'agyam', 'ahyam', 'aiyam', 'ajyam', 'akyam', 'alyam', 'amyam', 'anyam', 'aoyam', 'apyam', 'aqyam', 'aryam', 'asyam', 'atyam', 'auyam', 'avyam', 'awyam', 'axyam', 'ayyam', 'azyam', 'ayaam', 'aybam', 'aycam', 'aydam', 'ayeam', 'ayfam', 'aygam', 'ayham', 'ayiam', 'ayjam', 'aykam', 'aylam', 'aymam', 'aynam', 'ayoam', 'aypam', 'ayqam', 'ayram', 'aysam', 'aytam', 'ayuam', 'ayvam', 'aywam', 'ayxam', 'ayyam', 'ayzam', 'ayaam', 'ayabm', 'ayacm', 'ayadm', 'ayaem', 'ayafm', 'ayagm', 'ayahm', 'ayaim', 'ayajm', 'ayakm', 'ayalm', 'ayamm', 'ayanm', 'ayaom', 'ayapm', 'ayaqm', 'ayarm', 'ayasm', 'ayatm', 'ayaum', 'ayavm', 'ayawm', 'ayaxm', 'ayaym', 'ayazm', 'ayama', 'ayamb', 'ayamc', 'ayamd', 'ayame', 'ayamf', 'ayamg', 'ayamh', 'ayami', 'ayamj', 'ayamk', 'ayaml', 'ayamm', 'ayamn', 'ayamo', 'ayamp', 'ayamq', 'ayamr', 'ayams', 'ayamt', 'ayamu', 'ayamv', 'ayamw', 'ayamx', 'ayamy', 'ayamz']\n",
      "Number of strings output by insert_letter('ayam') is 130\n"
     ]
    }
   ],
   "source": [
    "insert_l = insert_letter('ayam', True)\n",
    "print(f\"Number of strings output by insert_letter('ayam') is {len(insert_l)}\")"
   ]
  },
  {
   "cell_type": "code",
   "execution_count": 33,
   "id": "cb209837",
   "metadata": {},
   "outputs": [],
   "source": [
    "def edit_one_letter(word, allow_switches = True):\n",
    "    \n",
    "    edit_one_set = set()\n",
    "    \n",
    "    edit_one_set.update(delete_letter(word))\n",
    "    if allow_switches:\n",
    "        edit_one_set.update(switch_letter(word))\n",
    "    edit_one_set.update(replace_letter(word))\n",
    "    edit_one_set.update(insert_letter(word))\n",
    "\n",
    "    # return this as a set and not a list\n",
    "    return set(edit_one_set)"
   ]
  },
  {
   "cell_type": "code",
   "execution_count": 34,
   "id": "e1294dd8",
   "metadata": {},
   "outputs": [
    {
     "name": "stdout",
     "output_type": "stream",
     "text": [
      "input word ayam \n",
      "edit_one_l \n",
      "['aaam', 'aam', 'aayam', 'aaym', 'abam', 'abyam', 'acam', 'acyam', 'adam', 'adyam', 'aeam', 'aeyam', 'afam', 'afyam', 'agam', 'agyam', 'aham', 'ahyam', 'aiam', 'aiyam', 'ajam', 'ajyam', 'akam', 'akyam', 'alam', 'alyam', 'amam', 'amyam', 'anam', 'anyam', 'aoam', 'aoyam', 'apam', 'apyam', 'aqam', 'aqyam', 'aram', 'aryam', 'asam', 'asyam', 'atam', 'atyam', 'auam', 'auyam', 'avam', 'avyam', 'awam', 'awyam', 'axam', 'axyam', 'aya', 'ayaa', 'ayaam', 'ayab', 'ayabm', 'ayac', 'ayacm', 'ayad', 'ayadm', 'ayae', 'ayaem', 'ayaf', 'ayafm', 'ayag', 'ayagm', 'ayah', 'ayahm', 'ayai', 'ayaim', 'ayaj', 'ayajm', 'ayak', 'ayakm', 'ayal', 'ayalm', 'ayama', 'ayamb', 'ayamc', 'ayamd', 'ayame', 'ayamf', 'ayamg', 'ayamh', 'ayami', 'ayamj', 'ayamk', 'ayaml', 'ayamm', 'ayamn', 'ayamo', 'ayamp', 'ayamq', 'ayamr', 'ayams', 'ayamt', 'ayamu', 'ayamv', 'ayamw', 'ayamx', 'ayamy', 'ayamz', 'ayan', 'ayanm', 'ayao', 'ayaom', 'ayap', 'ayapm', 'ayaq', 'ayaqm', 'ayar', 'ayarm', 'ayas', 'ayasm', 'ayat', 'ayatm', 'ayau', 'ayaum', 'ayav', 'ayavm', 'ayaw', 'ayawm', 'ayax', 'ayaxm', 'ayay', 'ayaym', 'ayaz', 'ayazm', 'aybam', 'aybm', 'aycam', 'aycm', 'aydam', 'aydm', 'ayeam', 'ayem', 'ayfam', 'ayfm', 'aygam', 'aygm', 'ayham', 'ayhm', 'ayiam', 'ayim', 'ayjam', 'ayjm', 'aykam', 'aykm', 'aylam', 'aylm', 'aym', 'ayma', 'aymam', 'aymm', 'aynam', 'aynm', 'ayoam', 'ayom', 'aypam', 'aypm', 'ayqam', 'ayqm', 'ayram', 'ayrm', 'aysam', 'aysm', 'aytam', 'aytm', 'ayuam', 'ayum', 'ayvam', 'ayvm', 'aywam', 'aywm', 'ayxam', 'ayxm', 'ayyam', 'ayym', 'ayzam', 'ayzm', 'azam', 'azyam', 'bayam', 'byam', 'cayam', 'cyam', 'dayam', 'dyam', 'eayam', 'eyam', 'fayam', 'fyam', 'gayam', 'gyam', 'hayam', 'hyam', 'iayam', 'iyam', 'jayam', 'jyam', 'kayam', 'kyam', 'layam', 'lyam', 'mayam', 'myam', 'nayam', 'nyam', 'oayam', 'oyam', 'payam', 'pyam', 'qayam', 'qyam', 'rayam', 'ryam', 'sayam', 'syam', 'tayam', 'tyam', 'uayam', 'uyam', 'vayam', 'vyam', 'wayam', 'wyam', 'xayam', 'xyam', 'yaam', 'yam', 'yayam', 'yyam', 'zayam', 'zyam']\n",
      "\n",
      "The type of the returned object should be a set <class 'set'>\n",
      "Number of outputs from edit_one_letter('ayam') is 233\n"
     ]
    }
   ],
   "source": [
    "tmp_word = \"ayam\"\n",
    "tmp_edit_one_set = edit_one_letter(tmp_word)\n",
    "# turn this into a list to sort it, in order to view it\n",
    "tmp_edit_one_l = sorted(list(tmp_edit_one_set))\n",
    "\n",
    "print(f\"input word {tmp_word} \\nedit_one_l \\n{tmp_edit_one_l}\\n\")\n",
    "print(f\"The type of the returned object should be a set {type(tmp_edit_one_set)}\")\n",
    "print(f\"Number of outputs from edit_one_letter('ayam') is {len(edit_one_letter('ayam'))}\")"
   ]
  },
  {
   "cell_type": "code",
   "execution_count": 35,
   "id": "4e07167d",
   "metadata": {},
   "outputs": [],
   "source": [
    "def edit_two_letters(word, allow_switches = True):\n",
    "    \n",
    "    edit_two_set = set()\n",
    "\n",
    "    edit_one = edit_one_letter(word,allow_switches=allow_switches)\n",
    "    for w in edit_one:\n",
    "        if w:\n",
    "            edit_two = edit_one_letter(w,allow_switches=allow_switches)\n",
    "            edit_two_set.update(edit_two)\n",
    "    \n",
    "    # return this as a set instead of a list\n",
    "    return set(edit_two_set)"
   ]
  },
  {
   "cell_type": "code",
   "execution_count": 39,
   "id": "5a0782ee",
   "metadata": {},
   "outputs": [
    {
     "name": "stdout",
     "output_type": "stream",
     "text": [
      "Number of strings with edit distance of two: 24201\n",
      "First 10 strings ['aa', 'aaa', 'aaaa', 'aaaam', 'aaab', 'aaabm', 'aaac', 'aaacm', 'aaad', 'aaadm']\n",
      "Last 10 strings ['zywm', 'zyxam', 'zyxm', 'zyyam', 'zyym', 'zyzam', 'zyzm', 'zzam', 'zzayam', 'zzyam']\n",
      "The data type of the returned object should be a set <class 'set'>\n",
      "Number of strings that are 2 edit distances from 'at' is 7154\n"
     ]
    }
   ],
   "source": [
    "tmp_edit_two_set = edit_two_letters(\"ayam\")\n",
    "tmp_edit_two_l = sorted(list(tmp_edit_two_set))\n",
    "print(f\"Number of strings with edit distance of two: {len(tmp_edit_two_l)}\")\n",
    "print(f\"First 10 strings {tmp_edit_two_l[:10]}\")\n",
    "print(f\"Last 10 strings {tmp_edit_two_l[-10:]}\")\n",
    "print(f\"The data type of the returned object should be a set {type(tmp_edit_two_set)}\")\n",
    "print(f\"Number of strings that are 2 edit distances from 'at' is {len(edit_two_letters('at'))}\")"
   ]
  },
  {
   "cell_type": "code",
   "execution_count": null,
   "id": "26eaafcf",
   "metadata": {},
   "outputs": [],
   "source": []
  },
  {
   "cell_type": "code",
   "execution_count": null,
   "id": "ff3d3e8e",
   "metadata": {},
   "outputs": [],
   "source": [
    "# example of logical operation on lists or sets\n",
    "print( [] and [\"a\",\"b\"] )\n",
    "print( [] or [\"a\",\"b\"] )\n",
    "#example of Short circuit behavior\n",
    "val1 =  [\"Most\",\"Likely\"] or [\"Less\",\"so\"] or [\"least\",\"of\",\"all\"]  # selects first, does not evalute remainder\n",
    "print(val1)\n",
    "val2 =  [] or [] or [\"least\",\"of\",\"all\"] # continues evaluation until there is a non-empty list\n",
    "print(val2)"
   ]
  },
  {
   "cell_type": "code",
   "execution_count": null,
   "id": "4803f6b1",
   "metadata": {},
   "outputs": [],
   "source": []
  },
  {
   "cell_type": "code",
   "execution_count": 40,
   "id": "d703ff4d",
   "metadata": {},
   "outputs": [],
   "source": [
    "def get_corrections(word, probs, vocab, n=2, verbose = False):\n",
    "    \n",
    "    suggestions = []\n",
    "    n_best = []\n",
    "    \n",
    "    #Step 1: create suggestions as described above    \n",
    "    suggestions = list((word in vocab and word) or edit_one_letter(word).intersection(vocab) or edit_two_letters(word).intersection(vocab))\n",
    "                    \n",
    "    #Step 2: determine probability of suggestions\n",
    "    \n",
    "    #Step 3: Get all your best words and return the most probable top n_suggested words as n_best\n",
    "    \n",
    "    n_best = [[s,probs[s]] for s in list(reversed(suggestions))]\n",
    "    \n",
    "    if verbose: print(\"entered word = \", word, \"\\nsuggestions = \", suggestions)\n",
    "\n",
    "    return n_best"
   ]
  },
  {
   "cell_type": "code",
   "execution_count": 41,
   "id": "8984a22a",
   "metadata": {},
   "outputs": [
    {
     "name": "stdout",
     "output_type": "stream",
     "text": [
      "entered word =  bsyan \n",
      "suggestions =  ['bayau', 'bayam', 'bran', 'bean', 'asian', 'bulan']\n",
      "word 0: bulan, probability 0.000098\n",
      "word 1: asian, probability 0.000163\n",
      "word 2: bean, probability 0.000684\n",
      "word 3: bran, probability 0.000033\n",
      "word 4: bayam, probability 0.000912\n",
      "word 5: bayau, probability 0.000065\n",
      "data type of corrections <class 'list'>\n"
     ]
    }
   ],
   "source": [
    "# Test your implementation - feel free to try other words in my word\n",
    "my_word = 'bsyan' \n",
    "tmp_corrections = get_corrections(my_word, probs, vocab, 2, verbose=True) # keep verbose=True\n",
    "for i, word_prob in enumerate(tmp_corrections):\n",
    "    print(f\"word {i}: {word_prob[0]}, probability {word_prob[1]:.6f}\")\n",
    "\n",
    "# CODE REVIEW COMMENT: using \"tmp_corrections\" insteads of \"cors\". \"cors\" is not defined\n",
    "print(f\"data type of corrections {type(tmp_corrections)}\")"
   ]
  },
  {
   "cell_type": "code",
   "execution_count": null,
   "id": "bf7626e0",
   "metadata": {},
   "outputs": [],
   "source": []
  },
  {
   "cell_type": "code",
   "execution_count": 42,
   "id": "50129dba",
   "metadata": {},
   "outputs": [],
   "source": [
    "# min_edit_distance\n",
    "def min_edit_distance(source, target, ins_cost = 1, del_cost = 1, rep_cost = 2):\n",
    "    '''\n",
    "    Input: \n",
    "        source: a string corresponding to the string you are starting with\n",
    "        target: a string corresponding to the string you want to end with\n",
    "        ins_cost: an integer setting the insert cost\n",
    "        del_cost: an integer setting the delete cost\n",
    "        rep_cost: an integer setting the replace cost\n",
    "    Output:\n",
    "        D: a matrix of len(source)+1 by len(target)+1 containing minimum edit distances\n",
    "        med: the minimum edit distance (med) required to convert the source string to the target\n",
    "    '''\n",
    "    # use deletion and insert cost as  1\n",
    "    m = len(source) \n",
    "    n = len(target) \n",
    "    #initialize cost matrix with zeros and dimensions (m+1,n+1) \n",
    "    D = np.zeros((m+1, n+1), dtype=int) \n",
    "    \n",
    "    ### START CODE HERE (Replace instances of 'None' with your code) ###\n",
    "    \n",
    "    # Fill in column 0, from row 1 to row m, both inclusive\n",
    "    for row in range(1, m+1): # Replace None with the proper range\n",
    "        D[row,0] = D[row-1, 0] + del_cost\n",
    "        \n",
    "    # Fill in row 0, for all columns from 1 to n, both inclusive\n",
    "    for col in range(1, n+1): # Replace None with the proper range\n",
    "        D[0,col] = D[0, col-1] + ins_cost\n",
    "        \n",
    "    # Loop through row 1 to row m, both inclusive\n",
    "    for row in range(1,m+1):\n",
    "        \n",
    "        # Loop through column 1 to column n, both inclusive\n",
    "        for col in range(1,n+1):\n",
    "            \n",
    "            # Intialize r_cost to the 'replace' cost that is passed into this function\n",
    "            r_cost = rep_cost\n",
    "            \n",
    "            # Check to see if source character at the previous row\n",
    "            # matches the target character at the previous column, \n",
    "            if source[row-1] == target[col-1]: # Replace None with a proper comparison\n",
    "                # Update the replacement cost to 0 if source and target are the same\n",
    "                r_cost = 0\n",
    "                \n",
    "            # Update the cost at row, col based on previous entries in the cost matrix\n",
    "            # Refer to the equation calculate for D[i,j] (the minimum of three calculated costs)\n",
    "            D[row,col] = min([D[row-1,col]+del_cost, D[row,col-1]+ins_cost, D[row-1,col-1]+r_cost])\n",
    "            \n",
    "    # Set the minimum edit distance with the cost found at row m, column n \n",
    "    med = D[m, n]\n",
    "    \n",
    "    ### END CODE HERE ###\n",
    "    return D, med"
   ]
  },
  {
   "cell_type": "code",
   "execution_count": 43,
   "id": "e504b55a",
   "metadata": {},
   "outputs": [
    {
     "name": "stdout",
     "output_type": "stream",
     "text": [
      "minimum edits:  4 \n",
      "\n",
      "   #  g  o  r  e  n  g\n",
      "#  0  1  2  3  4  5  6\n",
      "g  1  0  1  2  3  4  5\n",
      "i  2  1  2  3  4  5  6\n",
      "r  3  2  3  2  3  4  5\n",
      "e  4  3  4  3  2  3  4\n",
      "b  5  4  5  4  3  4  5\n",
      "g  6  5  6  5  4  5  4\n"
     ]
    }
   ],
   "source": [
    "#MODIFY THIS CELL\n",
    "# testing your implementation \n",
    "source =  'girebg'\n",
    "target = 'goreng'\n",
    "matrix, min_edits = min_edit_distance(source, target)\n",
    "print(\"minimum edits: \",min_edits, \"\\n\")\n",
    "idx = list('#' + source)\n",
    "cols = list('#' + target)\n",
    "df = pd.DataFrame(matrix, index=idx, columns= cols)\n",
    "print(df)"
   ]
  },
  {
   "cell_type": "code",
   "execution_count": null,
   "id": "f7c658f4",
   "metadata": {},
   "outputs": [],
   "source": []
  }
 ],
 "metadata": {
  "kernelspec": {
   "display_name": "Python 3 (ipykernel)",
   "language": "python",
   "name": "python3"
  },
  "language_info": {
   "codemirror_mode": {
    "name": "ipython",
    "version": 3
   },
   "file_extension": ".py",
   "mimetype": "text/x-python",
   "name": "python",
   "nbconvert_exporter": "python",
   "pygments_lexer": "ipython3",
   "version": "3.10.10"
  }
 },
 "nbformat": 4,
 "nbformat_minor": 5
}
