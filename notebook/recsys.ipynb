{
 "cells": [
  {
   "cell_type": "code",
   "execution_count": 1,
   "id": "840bb7ff",
   "metadata": {},
   "outputs": [],
   "source": [
    "import numpy as np \n",
    "import pandas as pd \n",
    "from ast import literal_eval\n",
    "import warnings\n",
    "warnings.filterwarnings('ignore')\n",
    "import os\n",
    "import pickle\n",
    "from sklearn.feature_extraction.text import TfidfVectorizer, CountVectorizer\n",
    "from sklearn.metrics.pairwise import linear_kernel, cosine_similarity"
   ]
  },
  {
   "cell_type": "code",
   "execution_count": 2,
   "id": "5efe1892",
   "metadata": {},
   "outputs": [],
   "source": [
    "df = pd.read_csv('../merged_file.csv')"
   ]
  },
  {
   "cell_type": "code",
   "execution_count": 5,
   "id": "cfdd392f",
   "metadata": {},
   "outputs": [
    {
     "data": {
      "text/html": [
       "<div>\n",
       "<style scoped>\n",
       "    .dataframe tbody tr th:only-of-type {\n",
       "        vertical-align: middle;\n",
       "    }\n",
       "\n",
       "    .dataframe tbody tr th {\n",
       "        vertical-align: top;\n",
       "    }\n",
       "\n",
       "    .dataframe thead th {\n",
       "        text-align: right;\n",
       "    }\n",
       "</style>\n",
       "<table border=\"1\" class=\"dataframe\">\n",
       "  <thead>\n",
       "    <tr style=\"text-align: right;\">\n",
       "      <th></th>\n",
       "      <th>nama</th>\n",
       "      <th>porsi</th>\n",
       "      <th>kalori</th>\n",
       "      <th>lemak</th>\n",
       "      <th>karbs</th>\n",
       "      <th>protein</th>\n",
       "      <th>sodium</th>\n",
       "      <th>kolesterol</th>\n",
       "      <th>kategori</th>\n",
       "      <th>UniqueID</th>\n",
       "      <th>overall</th>\n",
       "    </tr>\n",
       "  </thead>\n",
       "  <tbody>\n",
       "    <tr>\n",
       "      <th>0</th>\n",
       "      <td>Krim Sup Ayam (Kalengan, Terkondensasi)</td>\n",
       "      <td>1 mangkok</td>\n",
       "      <td>223.0</td>\n",
       "      <td>14,48</td>\n",
       "      <td>17,97</td>\n",
       "      <td>5,97</td>\n",
       "      <td>1,36</td>\n",
       "      <td>5,133</td>\n",
       "      <td>ayam</td>\n",
       "      <td>1</td>\n",
       "      <td>Krim Sup Ayam (Kalengan, Terkondensasi)ayam</td>\n",
       "    </tr>\n",
       "    <tr>\n",
       "      <th>1</th>\n",
       "      <td>Belalang Goreng</td>\n",
       "      <td>100 gram (g)</td>\n",
       "      <td>151.0</td>\n",
       "      <td>6,45</td>\n",
       "      <td>8,34</td>\n",
       "      <td>14,3</td>\n",
       "      <td>0,94</td>\n",
       "      <td>3,536</td>\n",
       "      <td>ayam</td>\n",
       "      <td>2</td>\n",
       "      <td>Belalang Gorengayam</td>\n",
       "    </tr>\n",
       "    <tr>\n",
       "      <th>2</th>\n",
       "      <td>Getuk Goreng</td>\n",
       "      <td>100 gram (g)</td>\n",
       "      <td>359.0</td>\n",
       "      <td>6,68</td>\n",
       "      <td>74,06</td>\n",
       "      <td>1,31</td>\n",
       "      <td>34,96</td>\n",
       "      <td>3,846</td>\n",
       "      <td>ayam</td>\n",
       "      <td>3</td>\n",
       "      <td>Getuk Gorengayam</td>\n",
       "    </tr>\n",
       "    <tr>\n",
       "      <th>3</th>\n",
       "      <td>Bakso Goreng</td>\n",
       "      <td>1 buah</td>\n",
       "      <td>57.0</td>\n",
       "      <td>3,77</td>\n",
       "      <td>2,39</td>\n",
       "      <td>3,22</td>\n",
       "      <td>0,24</td>\n",
       "      <td>1,663</td>\n",
       "      <td>ayam</td>\n",
       "      <td>4</td>\n",
       "      <td>Bakso Gorengayam</td>\n",
       "    </tr>\n",
       "    <tr>\n",
       "      <th>4</th>\n",
       "      <td>Paha Ayam Panggang (Kulit Dimakan)</td>\n",
       "      <td>1 kecil (hasil setelah masak, tulang dihilangkan)</td>\n",
       "      <td>135.0</td>\n",
       "      <td>8,45</td>\n",
       "      <td>0</td>\n",
       "      <td>13,67</td>\n",
       "      <td>0</td>\n",
       "      <td>3,354</td>\n",
       "      <td>ayam</td>\n",
       "      <td>5</td>\n",
       "      <td>Paha Ayam Panggang (Kulit Dimakan)ayam</td>\n",
       "    </tr>\n",
       "  </tbody>\n",
       "</table>\n",
       "</div>"
      ],
      "text/plain": [
       "                                      nama   \n",
       "0  Krim Sup Ayam (Kalengan, Terkondensasi)  \\\n",
       "1                          Belalang Goreng   \n",
       "2                             Getuk Goreng   \n",
       "3                             Bakso Goreng   \n",
       "4       Paha Ayam Panggang (Kulit Dimakan)   \n",
       "\n",
       "                                               porsi kalori  lemak  karbs   \n",
       "0                                          1 mangkok  223.0  14,48  17,97  \\\n",
       "1                                       100 gram (g)  151.0   6,45   8,34   \n",
       "2                                       100 gram (g)  359.0   6,68  74,06   \n",
       "3                                             1 buah   57.0   3,77   2,39   \n",
       "4  1 kecil (hasil setelah masak, tulang dihilangkan)  135.0   8,45      0   \n",
       "\n",
       "  protein sodium kolesterol kategori  UniqueID   \n",
       "0    5,97   1,36      5,133     ayam         1  \\\n",
       "1    14,3   0,94      3,536     ayam         2   \n",
       "2    1,31  34,96      3,846     ayam         3   \n",
       "3    3,22   0,24      1,663     ayam         4   \n",
       "4   13,67      0      3,354     ayam         5   \n",
       "\n",
       "                                       overall  \n",
       "0  Krim Sup Ayam (Kalengan, Terkondensasi)ayam  \n",
       "1                          Belalang Gorengayam  \n",
       "2                             Getuk Gorengayam  \n",
       "3                             Bakso Gorengayam  \n",
       "4       Paha Ayam Panggang (Kulit Dimakan)ayam  "
      ]
     },
     "execution_count": 5,
     "metadata": {},
     "output_type": "execute_result"
    }
   ],
   "source": [
    "df.head()"
   ]
  },
  {
   "cell_type": "code",
   "execution_count": 6,
   "id": "870324e0",
   "metadata": {},
   "outputs": [
    {
     "data": {
      "text/plain": [
       "dtype('int32')"
      ]
     },
     "execution_count": 6,
     "metadata": {},
     "output_type": "execute_result"
    }
   ],
   "source": [
    "df['UniqueID'].dtype"
   ]
  },
  {
   "cell_type": "code",
   "execution_count": 9,
   "id": "ae9dc5a8",
   "metadata": {},
   "outputs": [],
   "source": [
    "# Declaring the 'id' column as integer\n",
    "df['UniqueID'] = df['UniqueID'].astype('int')"
   ]
  },
  {
   "cell_type": "code",
   "execution_count": 10,
   "id": "f84b2c99",
   "metadata": {},
   "outputs": [
    {
     "data": {
      "text/plain": [
       "(8800, 11)"
      ]
     },
     "execution_count": 10,
     "metadata": {},
     "output_type": "execute_result"
    }
   ],
   "source": [
    "# fd = df[df['UniqueID']]\n",
    "df.shape"
   ]
  },
  {
   "cell_type": "code",
   "execution_count": 11,
   "id": "0c848be7",
   "metadata": {},
   "outputs": [],
   "source": [
    "df['kalori'] = df['kalori'].astype(str)"
   ]
  },
  {
   "cell_type": "code",
   "execution_count": 12,
   "id": "ad8ea16b",
   "metadata": {},
   "outputs": [],
   "source": [
    "df['overall'] = df['nama'] + df['kategori'] #+ fd['kalori']# Combining columns overview and tagline"
   ]
  },
  {
   "cell_type": "code",
   "execution_count": 3,
   "id": "1dbbe07c",
   "metadata": {},
   "outputs": [],
   "source": [
    "# Converts a collection of raw documents to a matrix of TF-IDF features\n",
    "tf = TfidfVectorizer(analyzer='word', ngram_range=(1, 2), min_df = 0, stop_words='english')\n",
    "tfidf_matrix = tf.fit_transform(df['overall'])"
   ]
  },
  {
   "cell_type": "code",
   "execution_count": 5,
   "id": "808fc45b",
   "metadata": {},
   "outputs": [],
   "source": [
    "cosine_sim = linear_kernel(tfidf_matrix, tfidf_matrix)"
   ]
  },
  {
   "cell_type": "code",
   "execution_count": 7,
   "id": "8aa07b4c",
   "metadata": {},
   "outputs": [],
   "source": [
    "df = df.reset_index(drop=True)\n",
    "titles = df['nama']  # Defining a new variable title\n",
    "indices = pd.Series(df.index, index = df['nama'])  # Defining a new dataframe indices"
   ]
  },
  {
   "cell_type": "code",
   "execution_count": 8,
   "id": "ec875175",
   "metadata": {},
   "outputs": [],
   "source": [
    "df.head()"
   ]
  },
  {
   "cell_type": "code",
   "execution_count": 9,
   "id": "3ef9f09d",
   "metadata": {},
   "outputs": [],
   "source": [
    "# Defining a function that returns 30 most similar food bases on the cosine \n",
    "# similarity score\n",
    "def get_recommendations(title):\n",
    "    idx = indices[title]  # Defining a variable with indices\n",
    "    sim_scores = list(enumerate(cosine_sim[idx]))\n",
    "    sim_scores = sorted(sim_scores, key = lambda x: x[1], reverse = True)\n",
    "    sim_scores = sim_scores[1: 31]  # Taking the 30 most similar foods\n",
    "    movie_indices = [i[0] for i in sim_scores]\n",
    "    return titles.iloc[movie_indices]  # returns the title based on food indices"
   ]
  },
  {
   "cell_type": "code",
   "execution_count": 10,
   "id": "2b7cadb7",
   "metadata": {},
   "outputs": [],
   "source": [
    "# Convert a collection of text documents to a matrix of token counts\n",
    "count = CountVectorizer(analyzer = 'word', ngram_range = (1, 2), min_df = 0, stop_words = 'english')\n",
    "count_matrix = count.fit_transform(df['overall'])"
   ]
  },
  {
   "cell_type": "code",
   "execution_count": 11,
   "id": "f70aba24",
   "metadata": {},
   "outputs": [],
   "source": [
    "# Compute cosine similarity between samples in X and Y.\n",
    "cosine_sim = cosine_similarity(count_matrix, count_matrix)"
   ]
  },
  {
   "cell_type": "code",
   "execution_count": 13,
   "id": "cd4cd15f",
   "metadata": {},
   "outputs": [
    {
     "data": {
      "text/plain": [
       "95                                     Kulit Ayam Goreng\n",
       "96                                   Piattos Ayam Goreng\n",
       "103                                    Bumbu Ayam Goreng\n",
       "107                                     Usus Ayam Goreng\n",
       "85                               Bumbu Racik Ayam Goreng\n",
       "88                                 Nori Rasa Ayam Goreng\n",
       "78                          Ripik Hijau Rasa Ayam Goreng\n",
       "46                      Daging Paha Ayam (Ayam Pedaging)\n",
       "47                      Daging Dada Ayam (Ayam Pedaging)\n",
       "32                                Daging Ayam (Panggang)\n",
       "30           Daging dan Kulit Sayap Ayam (Ayam Pedaging)\n",
       "31            Daging Paha dan Kulit Ayam (Ayam Pedaging)\n",
       "53     Daging Paha Ayam (Ayam Pedaging, Dipanggang, D...\n",
       "54     Daging Dada Ayam (Ayam Pedaging, Dipanggang, D...\n",
       "55            Daging Dada dan Kulit Ayam (Ayam Pedaging)\n",
       "5                             Kuah/Kaldu Ayam (Kalengan)\n",
       "21                            Sup Ayam Kental (Kalengan)\n",
       "220                           Ayam (Kulit tidak Dimakan)\n",
       "1                                        Belalang Goreng\n",
       "2                                           Getuk Goreng\n",
       "3                                           Bakso Goreng\n",
       "6                                         Polenta Goreng\n",
       "12                                             Ayam Woku\n",
       "34                                           Ayam Penyet\n",
       "40                                          Oncom Goreng\n",
       "41                                          Bebek Goreng\n",
       "42                                            Ubi Goreng\n",
       "43                                           Roti Goreng\n",
       "44                                          Bihun Goreng\n",
       "45                                          Udang Goreng\n",
       "Name: nama, dtype: object"
      ]
     },
     "execution_count": 13,
     "metadata": {},
     "output_type": "execute_result"
    }
   ],
   "source": [
    "get_recommendations('Ayam Goreng')"
   ]
  },
  {
   "cell_type": "code",
   "execution_count": 28,
   "id": "94004649",
   "metadata": {},
   "outputs": [],
   "source": [
    "with open('preprocessed_data.pkl', 'wb') as file:\n",
    "    pickle.dump(fd, file)"
   ]
  },
  {
   "cell_type": "code",
   "execution_count": 29,
   "id": "b1b678d8",
   "metadata": {},
   "outputs": [],
   "source": [
    "# Load the preprocessed data and the get_recommendations function\n",
    "with open('preprocessed_data.pkl', 'rb') as file:\n",
    "    preprocessed_data = pickle.load(file)"
   ]
  },
  {
   "cell_type": "code",
   "execution_count": null,
   "id": "a67998b2",
   "metadata": {},
   "outputs": [],
   "source": []
  }
 ],
 "metadata": {
  "kernelspec": {
   "display_name": "Python 3 (ipykernel)",
   "language": "python",
   "name": "python3"
  },
  "language_info": {
   "codemirror_mode": {
    "name": "ipython",
    "version": 3
   },
   "file_extension": ".py",
   "mimetype": "text/x-python",
   "name": "python",
   "nbconvert_exporter": "python",
   "pygments_lexer": "ipython3",
   "version": "3.10.10"
  }
 },
 "nbformat": 4,
 "nbformat_minor": 5
}
